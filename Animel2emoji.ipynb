{
  "nbformat": 4,
  "nbformat_minor": 0,
  "metadata": {
    "colab": {
      "provenance": []
    },
    "kernelspec": {
      "name": "python3",
      "display_name": "Python 3"
    },
    "language_info": {
      "name": "python"
    }
  },
  "cells": [
    {
      "cell_type": "code",
      "source": [
        "!pip install onnxruntime\n",
        "!sudo apt-get update -y\n",
        "!sudo apt-get install python3.9"
      ],
      "metadata": {
        "colab": {
          "base_uri": "https://localhost:8080/"
        },
        "id": "wuXyIUiJ73VA",
        "outputId": "158aac6e-c3f2-47a8-bfa8-526f4a55f8a2"
      },
      "execution_count": 5,
      "outputs": [
        {
          "output_type": "stream",
          "name": "stdout",
          "text": [
            "Looking in indexes: https://pypi.org/simple, https://us-python.pkg.dev/colab-wheels/public/simple/\n",
            "Requirement already satisfied: onnxruntime in /usr/local/lib/python3.8/dist-packages (1.14.0)\n",
            "Requirement already satisfied: coloredlogs in /usr/local/lib/python3.8/dist-packages (from onnxruntime) (15.0.1)\n",
            "Requirement already satisfied: numpy>=1.21.6 in /usr/local/lib/python3.8/dist-packages (from onnxruntime) (1.22.4)\n",
            "Requirement already satisfied: packaging in /usr/local/lib/python3.8/dist-packages (from onnxruntime) (23.0)\n",
            "Requirement already satisfied: sympy in /usr/local/lib/python3.8/dist-packages (from onnxruntime) (1.7.1)\n",
            "Requirement already satisfied: protobuf in /usr/local/lib/python3.8/dist-packages (from onnxruntime) (3.19.6)\n",
            "Requirement already satisfied: flatbuffers in /usr/local/lib/python3.8/dist-packages (from onnxruntime) (23.1.21)\n",
            "Requirement already satisfied: humanfriendly>=9.1 in /usr/local/lib/python3.8/dist-packages (from coloredlogs->onnxruntime) (10.0)\n",
            "Requirement already satisfied: mpmath>=0.19 in /usr/local/lib/python3.8/dist-packages (from sympy->onnxruntime) (1.2.1)\n",
            "Python 3.8.10\n",
            "Get:1 https://cloud.r-project.org/bin/linux/ubuntu focal-cran40/ InRelease [3,622 B]\n",
            "Ign:2 https://developer.download.nvidia.com/compute/machine-learning/repos/ubuntu2004/x86_64  InRelease\n",
            "Hit:3 https://developer.download.nvidia.com/compute/cuda/repos/ubuntu2004/x86_64  InRelease\n",
            "Hit:4 https://developer.download.nvidia.com/compute/machine-learning/repos/ubuntu2004/x86_64  Release\n",
            "Get:5 http://security.ubuntu.com/ubuntu focal-security InRelease [114 kB]\n",
            "Hit:6 http://archive.ubuntu.com/ubuntu focal InRelease\n",
            "Hit:8 http://ppa.launchpad.net/c2d4u.team/c2d4u4.0+/ubuntu focal InRelease\n",
            "Get:9 http://archive.ubuntu.com/ubuntu focal-updates InRelease [114 kB]\n",
            "Hit:10 http://ppa.launchpad.net/cran/libgit2/ubuntu focal InRelease\n",
            "Hit:11 http://ppa.launchpad.net/deadsnakes/ppa/ubuntu focal InRelease\n",
            "Get:12 http://security.ubuntu.com/ubuntu focal-security/universe amd64 Packages [1,000 kB]\n",
            "Get:13 http://archive.ubuntu.com/ubuntu focal-backports InRelease [108 kB]\n",
            "Hit:14 http://ppa.launchpad.net/graphics-drivers/ppa/ubuntu focal InRelease\n",
            "Get:15 http://archive.ubuntu.com/ubuntu focal-updates/universe amd64 Packages [1,299 kB]\n",
            "Hit:16 http://ppa.launchpad.net/ubuntugis/ppa/ubuntu focal InRelease\n",
            "Get:17 http://archive.ubuntu.com/ubuntu focal-updates/restricted amd64 Packages [2,069 kB]\n",
            "Get:18 http://archive.ubuntu.com/ubuntu focal-updates/main amd64 Packages [2,972 kB]\n",
            "Fetched 7,679 kB in 4s (2,054 kB/s)\n",
            "Reading package lists... Done\n",
            "Reading package lists... Done\n",
            "Building dependency tree       \n",
            "Reading state information... Done\n",
            "The following additional packages will be installed:\n",
            "  libpython3.9-minimal libpython3.9-stdlib python3.9-minimal\n",
            "Suggested packages:\n",
            "  python3.9-venv binfmt-support\n",
            "The following NEW packages will be installed:\n",
            "  libpython3.9-minimal libpython3.9-stdlib python3.9 python3.9-minimal\n",
            "0 upgraded, 4 newly installed, 0 to remove and 19 not upgraded.\n",
            "Need to get 5,023 kB of archives.\n",
            "After this operation, 19.7 MB of additional disk space will be used.\n",
            "Get:1 http://ppa.launchpad.net/deadsnakes/ppa/ubuntu focal/main amd64 libpython3.9-minimal amd64 3.9.16-1+focal1 [804 kB]\n",
            "Get:2 http://ppa.launchpad.net/deadsnakes/ppa/ubuntu focal/main amd64 python3.9-minimal amd64 3.9.16-1+focal1 [2,062 kB]\n",
            "Get:3 http://ppa.launchpad.net/deadsnakes/ppa/ubuntu focal/main amd64 libpython3.9-stdlib amd64 3.9.16-1+focal1 [1,662 kB]\n",
            "Get:4 http://ppa.launchpad.net/deadsnakes/ppa/ubuntu focal/main amd64 python3.9 amd64 3.9.16-1+focal1 [495 kB]\n",
            "Fetched 5,023 kB in 7s (727 kB/s)\n",
            "debconf: unable to initialize frontend: Dialog\n",
            "debconf: (No usable dialog-like program is installed, so the dialog based frontend cannot be used. at /usr/share/perl5/Debconf/FrontEnd/Dialog.pm line 76, <> line 4.)\n",
            "debconf: falling back to frontend: Readline\n",
            "debconf: unable to initialize frontend: Readline\n",
            "debconf: (This frontend requires a controlling tty.)\n",
            "debconf: falling back to frontend: Teletype\n",
            "dpkg-preconfigure: unable to re-open stdin: \n",
            "Selecting previously unselected package libpython3.9-minimal:amd64.\n",
            "(Reading database ... 128208 files and directories currently installed.)\n",
            "Preparing to unpack .../libpython3.9-minimal_3.9.16-1+focal1_amd64.deb ...\n",
            "Unpacking libpython3.9-minimal:amd64 (3.9.16-1+focal1) ...\n",
            "Selecting previously unselected package python3.9-minimal.\n",
            "Preparing to unpack .../python3.9-minimal_3.9.16-1+focal1_amd64.deb ...\n",
            "Unpacking python3.9-minimal (3.9.16-1+focal1) ...\n",
            "Selecting previously unselected package libpython3.9-stdlib:amd64.\n",
            "Preparing to unpack .../libpython3.9-stdlib_3.9.16-1+focal1_amd64.deb ...\n",
            "Unpacking libpython3.9-stdlib:amd64 (3.9.16-1+focal1) ...\n",
            "Selecting previously unselected package python3.9.\n",
            "Preparing to unpack .../python3.9_3.9.16-1+focal1_amd64.deb ...\n",
            "Unpacking python3.9 (3.9.16-1+focal1) ...\n",
            "Setting up libpython3.9-minimal:amd64 (3.9.16-1+focal1) ...\n",
            "Setting up python3.9-minimal (3.9.16-1+focal1) ...\n",
            "Setting up libpython3.9-stdlib:amd64 (3.9.16-1+focal1) ...\n",
            "Setting up python3.9 (3.9.16-1+focal1) ...\n",
            "Processing triggers for man-db (2.9.1-1) ...\n",
            "Processing triggers for mime-support (3.64ubuntu1) ...\n",
            "update-alternatives: using /usr/bin/python3.9 to provide /usr/bin/python3 (python3) in auto mode\n",
            "Python 3.9.16\n"
          ]
        }
      ]
    },
    {
      "cell_type": "code",
      "source": [
        "import os\n",
        "# create input dir\n",
        "if not os.path.exists('images'):\n",
        "    os.mkdir('images')\n",
        "# create output dir\n",
        "if not os.path.exists('uploads'):\n",
        "    os.mkdir('uploads')"
      ],
      "metadata": {
        "id": "59nfHSPL0zbs"
      },
      "execution_count": 37,
      "outputs": []
    },
    {
      "cell_type": "code",
      "source": [
        "import cv2\n",
        "import onnxruntime\n",
        "import numpy as np\n",
        "import sys\n",
        "from pathlib import Path\n",
        "from numpy import floating\n",
        "\n",
        "\n",
        "def LoadImageAsNDArray(path) :\n",
        "    image_mat = cv2.imread(path)\n",
        "    image, width_and_height = PreprocessImage(image_mat)\n",
        "    image = np.asarray(np.expand_dims(image, 0))\n",
        "    return (image, tuple(width_and_height))\n",
        "\n",
        "def PreprocessImage(image, x32=True) :\n",
        "    height, width = image.shape[:2]\n",
        "    if x32:\n",
        "        def to_32s(x):\n",
        "            if x < 256:\n",
        "                return 256\n",
        "            return x - x % 32\n",
        "        image = cv2.resize(image, (to_32s(width), to_32s(height)))\n",
        "    image = cv2.cvtColor(image, cv2.COLOR_BGR2RGB).astype(np.float32) / 127.5 - 1.0\n",
        "    return (image, [width, height])\n",
        "\n",
        "def SaveImage(transform_image_ndarray, width_and_height, output_image_path):\n",
        "    transform_image_ndarray = (transform_image_ndarray.squeeze() + 1.0) / 2 * 255\n",
        "    transform_image_ndarray = transform_image_ndarray.astype(np.uint8)\n",
        "    transform_image_ndarray = cv2.resize(transform_image_ndarray, (width_and_height[0], width_and_height[1]))\n",
        "    cv2.imwrite(output_image_path, cv2.cvtColor(transform_image_ndarray, cv2.COLOR_RGB2BGR))\n",
        "\n",
        "def TransformImage(input_image_path):\n",
        "\n",
        "    # load onnx runtime model\n",
        "    print('Loading ONNX runtime model...')\n",
        "    onnx_path = 'onnx/animeganv3_H64_model.onnx'\n",
        "    with open(onnx_path, mode='rb') as fp:\n",
        "        onnx = fp.read()\n",
        "    session = onnxruntime.InferenceSession(onnx, providers=['CPUExecutionProvider'])\n",
        "    x = session.get_inputs()[0].name\n",
        "    y = session.get_outputs()[0].name\n",
        "    print('Loaded ONNX runtime model.')\n",
        "\n",
        "    # start inference\n",
        "    print('Processing...')\n",
        "\n",
        "    image_ndarray, width_and_height = LoadImageAsNDArray('uploads/'+input_image_path)\n",
        "\n",
        "    # run inference\n",
        "    transform_data = session.run(None, {x: image_ndarray})\n",
        "\n",
        "    # save image\n",
        "    SaveImage(transform_data[0], width_and_height, 'images/'+input_image_path)\n",
        "    print(f'Processed image: \"{input_image_path}\" ({width_and_height[0]}×{width_and_height[1]})')\n",
        "\n"
      ],
      "metadata": {
        "id": "y4WEiTZbmZP-"
      },
      "execution_count": 53,
      "outputs": []
    },
    {
      "cell_type": "code",
      "source": [
        "# the image must be uploaded in the uploads folder \n",
        "# change the input with image name\n",
        "TransformImage('dog1.jpg')\n",
        "# cv2.imread()"
      ],
      "metadata": {
        "id": "HMzH_JIY0NDl",
        "outputId": "13373db9-f190-4e5d-a415-275c67df0ca3",
        "colab": {
          "base_uri": "https://localhost:8080/"
        }
      },
      "execution_count": 54,
      "outputs": [
        {
          "output_type": "stream",
          "name": "stdout",
          "text": [
            "Loading ONNX runtime model...\n",
            "Loaded ONNX runtime model.\n",
            "Processing...\n",
            "Processed image: \"dog1.jpg\" (640×480)\n"
          ]
        }
      ]
    }
  ]
}